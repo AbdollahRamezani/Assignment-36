{
 "cells": [
  {
   "cell_type": "code",
   "execution_count": 20,
   "metadata": {},
   "outputs": [],
   "source": [
    "import cv2\n",
    "import numpy as np\n",
    "import matplotlib.pyplot as plt"
   ]
  },
  {
   "cell_type": "code",
   "execution_count": 16,
   "metadata": {},
   "outputs": [],
   "source": [
    "superman_image = cv2.imread(\"input/superman.jpg\")\n",
    "sky_fire_image = cv2.imread(\"input/sky_fire.jpg\")\n",
    "\n",
    "superman_image_copy = superman_image.copy()\n",
    "superman_image_HSV = cv2.cvtColor(superman_image_copy, cv2.COLOR_BGR2HSV)\n",
    "\n",
    "\n"
   ]
  },
  {
   "cell_type": "code",
   "execution_count": 21,
   "metadata": {},
   "outputs": [],
   "source": [
    "H, S, V = cv2.split(superman_image_HSV)"
   ]
  },
  {
   "cell_type": "code",
   "execution_count": 22,
   "metadata": {},
   "outputs": [],
   "source": [
    "for i in range(H.shape[0]):\n",
    "    for j in range(H.shape[1]):\n",
    "        if 30 < H[i, j] < 80 :  #green\n",
    "            superman_image[i, j] = sky_fire_image[i, j]\n",
    "        if H[i, j] < 0:\n",
    "            superman_image[i, j] = sky_fire_image[i, j]\n",
    "                 "
   ]
  },
  {
   "cell_type": "code",
   "execution_count": 23,
   "metadata": {},
   "outputs": [
    {
     "data": {
      "text/plain": [
       "True"
      ]
     },
     "execution_count": 23,
     "metadata": {},
     "output_type": "execute_result"
    }
   ],
   "source": [
    "\n",
    "cv2.imwrite(\"output/superman.jpg\", superman_image)"
   ]
  }
 ],
 "metadata": {
  "kernelspec": {
   "display_name": "Python 3",
   "language": "python",
   "name": "python3"
  },
  "language_info": {
   "codemirror_mode": {
    "name": "ipython",
    "version": 3
   },
   "file_extension": ".py",
   "mimetype": "text/x-python",
   "name": "python",
   "nbconvert_exporter": "python",
   "pygments_lexer": "ipython3",
   "version": "3.10.8"
  },
  "orig_nbformat": 4
 },
 "nbformat": 4,
 "nbformat_minor": 2
}
